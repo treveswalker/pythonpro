{
 "cells": [
  {
   "cell_type": "code",
   "execution_count": 3,
   "id": "3a31a350",
   "metadata": {},
   "outputs": [],
   "source": [
    "def verification(num):\n",
    "    if num % 7 == 0 and num % 5 == 0:\n",
    "        return \"fizzbuzz\"\n",
    "    elif num % 7 == 0:\n",
    "        return \"buzz\"\n",
    "    elif num % 5 == 0:\n",
    "        return \"fizz\"\n",
    "    else:\n",
    "        return \"miss\""
   ]
  },
  {
   "cell_type": "code",
   "execution_count": null,
   "id": "0bc43f50",
   "metadata": {},
   "outputs": [],
   "source": []
  }
 ],
 "metadata": {
  "kernelspec": {
   "display_name": "Python 3 (ipykernel)",
   "language": "python",
   "name": "python3"
  },
  "language_info": {
   "codemirror_mode": {
    "name": "ipython",
    "version": 3
   },
   "file_extension": ".py",
   "mimetype": "text/x-python",
   "name": "python",
   "nbconvert_exporter": "python",
   "pygments_lexer": "ipython3",
   "version": "3.11.3"
  }
 },
 "nbformat": 4,
 "nbformat_minor": 5
}
